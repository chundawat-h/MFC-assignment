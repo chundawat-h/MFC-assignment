{
 "cells": [
  {
   "cell_type": "code",
   "execution_count": 2,
   "id": "2a13d597",
   "metadata": {},
   "outputs": [],
   "source": [
    "# Load cleaned data\n",
    "import pandas as pd\n",
    "from collections import defaultdict\n",
    "df = pd.read_csv(\"complete_cleaned_linkedin_data.csv\")\n"
   ]
  },
  {
   "cell_type": "code",
   "execution_count": 8,
   "id": "80fbdb51",
   "metadata": {},
   "outputs": [],
   "source": [
    "\n",
    "\n",
    "\n",
    "\n",
    "# Iterate through each row\n",
    "for _, row in df.iterrows():\n",
    "    person = str(row[\"Full Name\"]).strip().lower()\n",
    "    connection = str(row[\"Student\"]).strip().lower()\n",
    "\n",
    "    if connection == 'chiranjeetbiswas':\n",
    "        print(row)"
   ]
  },
  {
   "cell_type": "code",
   "execution_count": 5,
   "id": "26c4a41a",
   "metadata": {},
   "outputs": [
    {
     "data": {
      "text/plain": [
       "1979"
      ]
     },
     "execution_count": 5,
     "metadata": {},
     "output_type": "execute_result"
    }
   ],
   "source": [
    "2250-271"
   ]
  },
  {
   "cell_type": "code",
   "execution_count": 11,
   "id": "6bff69ac",
   "metadata": {},
   "outputs": [
    {
     "name": "stdout",
     "output_type": "stream",
     "text": [
      "✅ First Name column cleaned: middle names handled, spaces removed, all lowercase.\n",
      "✅ Renamed 'First Name' to 'Full Name' and dropped 'Last Name'. File updated.\n"
     ]
    }
   ],
   "source": [
    "# MAKE NEW COLUMN FOR FULL NAME AND REMOVE ONE COLUMN OF LAST NAME \n",
    "\n",
    "import pandas as pd\n",
    "\n",
    "# Load the already cleaned data\n",
    "df = pd.read_csv(\"other_9_cleaned.csv\")\n",
    "\n",
    "# Function to fully clean name (join first + last, remove spaces, lowercase)\n",
    "def clean_full_name(first, last):\n",
    "    full = f\"{str(first).strip()} {str(last).strip()}\"\n",
    "    return full.replace(\" \", \"\").lower()\n",
    "\n",
    "# Apply cleaning logic\n",
    "df[\"First Name\"] = df.apply(lambda row: clean_full_name(row[\"First Name\"], row[\"Last Name\"]), axis=1)\n",
    "\n",
    "print(\"✅ First Name column cleaned: middle names handled, spaces removed, all lowercase.\")\n",
    "\n",
    "\n",
    "\n",
    "# Drop the 'Last Name' column\n",
    "df.drop(\"Last Name\", axis=1, inplace=True)\n",
    "\n",
    "# Rename 'First Name' to 'Full Name'\n",
    "df.rename(columns={\"First Name\": \"Full Name\"}, inplace=True)\n",
    "\n",
    "# Save the updated DataFrame back to the same file\n",
    "df.to_csv(\"complete_cleaned_linkedin_data.csv\", index=False)\n",
    "\n",
    "print(\"✅ Renamed 'First Name' to 'Full Name' and dropped 'Last Name'. File updated.\")\n"
   ]
  },
  {
   "cell_type": "code",
   "execution_count": 12,
   "id": "91cedd4c",
   "metadata": {},
   "outputs": [
    {
     "ename": "NameError",
     "evalue": "name 'adjacency_list' is not defined",
     "output_type": "error",
     "traceback": [
      "\u001b[1;31m---------------------------------------------------------------------------\u001b[0m",
      "\u001b[1;31mNameError\u001b[0m                                 Traceback (most recent call last)",
      "Cell \u001b[1;32mIn[12], line 20\u001b[0m\n\u001b[0;32m     17\u001b[0m     x \u001b[38;5;241m=\u001b[39m random\u001b[38;5;241m.\u001b[39mchoice(neighbors)        \n\u001b[0;32m     18\u001b[0m     \u001b[38;5;28;01mreturn\u001b[39;00m randomW(x,s2,path)\n\u001b[1;32m---> 20\u001b[0m \u001b[43mrandom_walk\u001b[49m\u001b[43m(\u001b[49m\u001b[38;5;124;43m'\u001b[39;49m\u001b[38;5;124;43mhimanshukanwarchundawat\u001b[39;49m\u001b[38;5;124;43m'\u001b[39;49m\u001b[43m,\u001b[49m\u001b[38;5;124;43m'\u001b[39;49m\u001b[38;5;124;43mdishasahu\u001b[39;49m\u001b[38;5;124;43m'\u001b[39;49m\u001b[43m)\u001b[49m\n",
      "Cell \u001b[1;32mIn[12], line 3\u001b[0m, in \u001b[0;36mrandom_walk\u001b[1;34m(s1, s2)\u001b[0m\n\u001b[0;32m      2\u001b[0m \u001b[38;5;28;01mdef\u001b[39;00m \u001b[38;5;21mrandom_walk\u001b[39m(s1,s2):\n\u001b[1;32m----> 3\u001b[0m     \u001b[38;5;28;01mif\u001b[39;00m s1 \u001b[38;5;129;01min\u001b[39;00m \u001b[43madjacency_list\u001b[49m\u001b[38;5;241m.\u001b[39mkeys() \u001b[38;5;129;01mand\u001b[39;00m s2 \u001b[38;5;129;01min\u001b[39;00m adjacency_list\u001b[38;5;241m.\u001b[39mkeys():\n\u001b[0;32m      4\u001b[0m         \u001b[38;5;28;01mreturn\u001b[39;00m randomW(s1,s2,\u001b[38;5;241m0\u001b[39m,[])\n\u001b[0;32m      5\u001b[0m     \u001b[38;5;28mprint\u001b[39m(\u001b[38;5;124m'\u001b[39m\u001b[38;5;124myou may have entered invalid\u001b[39m\u001b[38;5;124m'\u001b[39m)\n",
      "\u001b[1;31mNameError\u001b[0m: name 'adjacency_list' is not defined"
     ]
    }
   ],
   "source": [
    "import random\n",
    "def random_walk(s1,s2):\n",
    "    if s1 in adjacency_list.keys() and s2 in adjacency_list.keys():\n",
    "        return randomW(s1,s2,0,[])\n",
    "    print('you may have entered invalid')\n",
    "    return None\n",
    "def randomW(s1,s2,steps,path=list):\n",
    "    path.append(s1) \n",
    "    if s1==s2:\n",
    "        # path.append(s2)\n",
    "        print(f'in {steps} steps')\n",
    "        return path\n",
    "    neighbors = adjacency_list.get(s1, [])\n",
    "    if not neighbors:\n",
    "        print(f\"No neighbors found for {s1}. Stopping walk.\")\n",
    "        return None\n",
    "    x = random.choice(neighbors)        \n",
    "    return randomW(x,s2,path)\n",
    "    \n",
    "random_walk('himanshukanwarchundawat','dishasahu')"
   ]
  },
  {
   "cell_type": "code",
   "execution_count": 11,
   "id": "67c74456",
   "metadata": {},
   "outputs": [],
   "source": [
    "# interconversion\n",
    "\n",
    "class interconversion:\n",
    "    def __init__(self, data):\n",
    "        self.data = data  # Accepts adjacency list, edge list, or matrix\n",
    "\n",
    "    def ToEdgeList(self):\n",
    "        if type(self.data) is dict:  # Input is adjacency list\n",
    "            E_list = []\n",
    "            for key, value in self.data.items():\n",
    "                while value != []:\n",
    "                    E_list.append((key, value[-1]))  # Add edge from key to last neighbor\n",
    "                    value.pop()  # Remove the neighbor to avoid duplicates\n",
    "            return E_list\n",
    "\n",
    "        elif type(self.data) is list:\n",
    "            if type(self.data[0]) is tuple:  # Already an edge list\n",
    "                return self.data\n",
    "\n",
    "            elif type(self.data[0]) is list:  # Input is adjacency matrix\n",
    "                E_list = []\n",
    "                for i in range(len(self.data)):\n",
    "                    for j in range(len(self.data)):\n",
    "                        if self.data[i][j] == 1:\n",
    "                            E_list.append((f's{i+1}', f's{j+1}'))  # Convert indices to node labels\n",
    "                return E_list\n",
    "\n",
    "    def ToAdjacencyList(self):\n",
    "        if type(self.data) is dict:  # Already an adjacency list\n",
    "            return self.data\n",
    "\n",
    "        elif type(self.data) is list:\n",
    "            if type(self.data[0]) is tuple:  # Edge list\n",
    "                A_list = {}\n",
    "                for i in self.data:\n",
    "                    if i[0] in A_list:\n",
    "                        A_list[i[0]].append(i[1])  # Add neighbor\n",
    "                    else:\n",
    "                        A_list[i[0]] = [i[1]]\n",
    "                return A_list\n",
    "\n",
    "            elif type(self.data[0]) is list:  # Adjacency matrix\n",
    "                A_list = {}\n",
    "                for i in range(len(self.data)):\n",
    "                    temp = []\n",
    "                    for j in range(len(self.data)):\n",
    "                        if self.data[i][j] == 1:\n",
    "                            temp.append(f's{j+1}')  # Convert index to node label\n",
    "                    A_list[f's{i+1}'] = temp  # Assign neighbors to node\n",
    "                return A_list\n",
    "\n",
    "    def ToAdjacencyMatrix(self):\n",
    "        if type(self.data) is dict:  # Input is adjacency list\n",
    "            # Collect all unique nodes\n",
    "            nodes = list(self.data.keys())\n",
    "            for neighbors in self.data.values():\n",
    "                for node in neighbors:\n",
    "                    if node not in nodes:\n",
    "                        nodes.append(node)\n",
    "            nodes.sort()  # Sort node names for consistent indexing\n",
    "\n",
    "            # Create a mapping from node name to matrix index\n",
    "            index_map = {}\n",
    "            for i in range(len(nodes)):\n",
    "                index_map[nodes[i]] = i\n",
    "\n",
    "            # Initialize 2D matrix with 0s\n",
    "            A_matrix = [[0 for _ in range(len(nodes))] for _ in range(len(nodes))]\n",
    "\n",
    "            # Fill matrix: set 1 if edge exists\n",
    "            for key, value in self.data.items():\n",
    "                for v in value:\n",
    "                    i = index_map[key]\n",
    "                    j = index_map[v]\n",
    "                    A_matrix[i][j] = 1\n",
    "\n",
    "            # Print matrix with labels\n",
    "            print(\"    \" + \"  \".join(nodes))  # Header row\n",
    "            for i, row in enumerate(A_matrix):\n",
    "                print(f\"{nodes[i]}  \" + \"  \".join(str(cell) for cell in row))  # Each row with node label\n",
    "\n",
    "            return A_matrix\n",
    "\n",
    "        elif type(self.data) is list:\n",
    "            # Convert edge list or matrix to adjacency list first, then recursively convert\n",
    "            if type(self.data[0]) is tuple or type(self.data[0]) is list:\n",
    "                return self.ToAdjacencyList().ToAdjacencyMatrix()\n"
   ]
  },
  {
   "cell_type": "code",
   "execution_count": null,
   "id": "31da0693",
   "metadata": {},
   "outputs": [],
   "source": []
  },
  {
   "cell_type": "code",
   "execution_count": null,
   "id": "d16ea592",
   "metadata": {},
   "outputs": [],
   "source": []
  }
 ],
 "metadata": {
  "kernelspec": {
   "display_name": "Python 3",
   "language": "python",
   "name": "python3"
  },
  "language_info": {
   "codemirror_mode": {
    "name": "ipython",
    "version": 3
   },
   "file_extension": ".py",
   "mimetype": "text/x-python",
   "name": "python",
   "nbconvert_exporter": "python",
   "pygments_lexer": "ipython3",
   "version": "3.11.9"
  }
 },
 "nbformat": 4,
 "nbformat_minor": 5
}
